{
 "cells": [
  {
   "cell_type": "code",
   "execution_count": 1,
   "id": "e76e50c8",
   "metadata": {
    "execution": {
     "iopub.execute_input": "2024-07-06T14:00:10.600404Z",
     "iopub.status.busy": "2024-07-06T14:00:10.599973Z",
     "iopub.status.idle": "2024-07-06T14:00:27.268480Z",
     "shell.execute_reply": "2024-07-06T14:00:27.267393Z"
    },
    "papermill": {
     "duration": 16.67925,
     "end_time": "2024-07-06T14:00:27.271269",
     "exception": false,
     "start_time": "2024-07-06T14:00:10.592019",
     "status": "completed"
    },
    "tags": []
   },
   "outputs": [
    {
     "name": "stderr",
     "output_type": "stream",
     "text": [
      "2024-07-08 08:19:02.939479: I tensorflow/core/platform/cpu_feature_guard.cc:182] This TensorFlow binary is optimized to use available CPU instructions in performance-critical operations.\n",
      "To enable the following instructions: SSE4.1 SSE4.2 AVX AVX2 FMA, in other operations, rebuild TensorFlow with the appropriate compiler flags.\n"
     ]
    }
   ],
   "source": [
    "import tensorflow as tf\n",
    "import tensorflow.keras as keras"
   ]
  },
  {
   "cell_type": "code",
   "execution_count": 2,
   "id": "1be06a18",
   "metadata": {
    "execution": {
     "iopub.execute_input": "2024-07-06T14:00:27.285564Z",
     "iopub.status.busy": "2024-07-06T14:00:27.284887Z",
     "iopub.status.idle": "2024-07-06T14:00:32.927933Z",
     "shell.execute_reply": "2024-07-06T14:00:32.926667Z"
    },
    "papermill": {
     "duration": 5.653266,
     "end_time": "2024-07-06T14:00:32.930832",
     "exception": false,
     "start_time": "2024-07-06T14:00:27.277566",
     "status": "completed"
    },
    "tags": []
   },
   "outputs": [],
   "source": [
    "# test train splitting csv\n",
    "\n",
    "import pandas as pd\n",
    "\n",
    "df = pd.read_csv('train.csv')\n",
    "\n",
    "from sklearn.model_selection import train_test_split\n",
    "\n",
    "train_data, test_data = train_test_split(df, test_size=0.2, random_state=28)\n",
    "\n",
    "# val set\n",
    "test_data, val_data = train_test_split(test_data, test_size=0.4, random_state=42)"
   ]
  },
  {
   "cell_type": "code",
   "execution_count": 3,
   "id": "9f5baba0",
   "metadata": {
    "execution": {
     "iopub.execute_input": "2024-07-06T14:00:32.947367Z",
     "iopub.status.busy": "2024-07-06T14:00:32.946930Z",
     "iopub.status.idle": "2024-07-06T14:00:36.007303Z",
     "shell.execute_reply": "2024-07-06T14:00:36.005826Z"
    },
    "papermill": {
     "duration": 3.072451,
     "end_time": "2024-07-06T14:00:36.010336",
     "exception": false,
     "start_time": "2024-07-06T14:00:32.937885",
     "status": "completed"
    },
    "tags": []
   },
   "outputs": [
    {
     "name": "stderr",
     "output_type": "stream",
     "text": [
      "2024-07-08 08:19:37.913899: I tensorflow/core/common_runtime/process_util.cc:146] Creating new thread pool with default inter op setting: 2. Tune using inter_op_parallelism_threads for best performance.\n"
     ]
    }
   ],
   "source": [
    "#tfd\n",
    "# function to convert dataframe to dataset\n",
    "\n",
    "def df_dataset(dataframe, shuffle=True, batch_size = 32):\n",
    "    dataframe = dataframe.copy()\n",
    "    labels = dataframe.pop('label')\n",
    "    dataset = tf.data.Dataset.from_tensor_slices((dict(dataframe), labels))\n",
    "    if shuffle:\n",
    "        dataset = dataset.shuffle(buffer_size=len(dataframe))\n",
    "    dataset = dataset.batch(batch_size=batch_size)\n",
    "    dataset = dataset.prefetch(buffer_size=tf.data.AUTOTUNE)\n",
    "\n",
    "    return dataset\n",
    "\n",
    "train_dataset = df_dataset(train_data)\n",
    "test_dataset = df_dataset(test_data, shuffle=False)\n",
    "\n",
    "# creating an image dataset from value dataset\n",
    "\n",
    "# dataset and dimensions\n",
    "pixels = [ f'pixel{i}' for i in range(784) ]\n",
    "\n",
    "columns = pixels +['label']\n",
    "\n",
    "# preprocess\n",
    "\n",
    "def preproc_fn(features, label):\n",
    "\n",
    "    # extract pixel values\n",
    "    img_pixels = [features[col] for col in pixels]\n",
    "\n",
    "    # stack the pixels\n",
    "    img_pixels = tf.stack(img_pixels, axis = 1)\n",
    "\n",
    "    # reshape to 28*28\n",
    "    img_pixels = tf.reshape(img_pixels, shape=[-1,28,28,1])\n",
    "\n",
    "    # normalize\n",
    "    img_pixels = tf.cast(img_pixels, tf.float32) / 255.0\n",
    "\n",
    "    return img_pixels, label\n",
    "\n",
    "\n",
    "test_dataset = test_dataset.map(preproc_fn)\n",
    "train_dataset = train_dataset.map(preproc_fn)\n",
    "\n",
    "# Debug function to print shapes\n",
    "def print_shapes(features, label):\n",
    "    tf.print(\"Features shape:\", tf.shape(features))\n",
    "    tf.print(\"Label shape:\", tf.shape(label))\n",
    "    return features, label"
   ]
  },
  {
   "cell_type": "code",
   "execution_count": 4,
   "id": "92db747f",
   "metadata": {
    "execution": {
     "iopub.execute_input": "2024-07-06T14:00:36.024569Z",
     "iopub.status.busy": "2024-07-06T14:00:36.024155Z",
     "iopub.status.idle": "2024-07-06T14:00:36.831085Z",
     "shell.execute_reply": "2024-07-06T14:00:36.829882Z"
    },
    "papermill": {
     "duration": 0.817365,
     "end_time": "2024-07-06T14:00:36.833974",
     "exception": false,
     "start_time": "2024-07-06T14:00:36.016609",
     "status": "completed"
    },
    "tags": []
   },
   "outputs": [],
   "source": [
    "# normal d\n",
    "\n",
    "Y_train = train_data.pop('label')\n",
    "Y_train = Y_train.astype(int)\n",
    "\n",
    "X_train = train_data.astype(float)\n",
    "X_train = X_train/255.0\n",
    "X_train = X_train.values.reshape(-1,28,28,1)\n",
    "\n",
    "Y_val = val_data.pop('label')\n",
    "X_val = val_data.astype(float).values.reshape(-1,28,28,1)/255.0\n",
    "Y_val = Y_val.astype(int)\n",
    "\n",
    "Y_test = test_data.pop('label')\n",
    "X_test = test_data.astype(float).values.reshape(-1,28,28,1)\n",
    "Y_test = Y_test.astype(int)"
   ]
  },
  {
   "cell_type": "code",
   "execution_count": 5,
   "id": "94a95ce0",
   "metadata": {
    "execution": {
     "iopub.execute_input": "2024-07-06T14:00:36.848602Z",
     "iopub.status.busy": "2024-07-06T14:00:36.848154Z",
     "iopub.status.idle": "2024-07-06T14:00:36.988332Z",
     "shell.execute_reply": "2024-07-06T14:00:36.986900Z"
    },
    "papermill": {
     "duration": 0.150999,
     "end_time": "2024-07-06T14:00:36.991238",
     "exception": false,
     "start_time": "2024-07-06T14:00:36.840239",
     "status": "completed"
    },
    "tags": []
   },
   "outputs": [],
   "source": [
    "# used 32 filters ,64\n",
    "\n",
    "model = keras.Sequential([keras.layers.InputLayer(input_shape= (28,28, 1)), \n",
    "                          keras.layers.Conv2D(32,kernel_size=(6,6), activation ='relu', padding='same'), \n",
    "                          keras.layers.MaxPooling2D(pool_size=(2,2)),\n",
    "                          keras.layers.Dropout(.25),\n",
    "                          keras.layers.Conv2D(32,kernel_size=(6,6), activation ='relu', padding='same'), \n",
    "                          keras.layers.MaxPooling2D(pool_size=(2,2)),\n",
    "                          keras.layers.Dropout(.3),\n",
    "                          keras.layers.Conv2D(64,kernel_size=(3,3), activation ='relu', padding='same'), \n",
    "                          keras.layers.MaxPooling2D(pool_size=(2,2)),\n",
    "                          keras.layers.Dropout(.25),\n",
    "                          keras.layers.Conv2D(64,kernel_size=(3,3), activation ='relu', padding='same'), \n",
    "                          keras.layers.MaxPooling2D(pool_size=(2,2)),\n",
    "                          keras.layers.Dropout(.33),\n",
    "                          keras.layers.Flatten(), \n",
    "                          keras.layers.Dense(256, activation='relu'), \n",
    "                          keras.layers.Dropout(.5),\n",
    "                          keras.layers.Dense(10, activation='softmax')])\n",
    "\n",
    "model.compile(optimizer='adam', loss= 'sparse_categorical_crossentropy', metrics=['accuracy'])"
   ]
  },
  {
   "cell_type": "code",
   "execution_count": 6,
   "id": "fbad3737",
   "metadata": {
    "execution": {
     "iopub.execute_input": "2024-07-06T14:00:37.005472Z",
     "iopub.status.busy": "2024-07-06T14:00:37.005083Z",
     "iopub.status.idle": "2024-07-06T14:00:37.012126Z",
     "shell.execute_reply": "2024-07-06T14:00:37.010691Z"
    },
    "papermill": {
     "duration": 0.017241,
     "end_time": "2024-07-06T14:00:37.014777",
     "exception": false,
     "start_time": "2024-07-06T14:00:36.997536",
     "status": "completed"
    },
    "tags": []
   },
   "outputs": [],
   "source": [
    "Lrreducer = keras.callbacks.ReduceLROnPlateau(monitor= 'val_accuracy', \n",
    "                                              factor = 0.5, \n",
    "                                              mode= 'auto', \n",
    "                                              min_delta = 0.00001, \n",
    "                                              patience = 2,\n",
    "                                              verbose=1,\n",
    "                                              min_lr = 0.00001)"
   ]
  },
  {
   "cell_type": "code",
   "execution_count": 7,
   "id": "1615431d",
   "metadata": {
    "execution": {
     "iopub.execute_input": "2024-07-06T14:00:37.028960Z",
     "iopub.status.busy": "2024-07-06T14:00:37.028526Z",
     "iopub.status.idle": "2024-07-06T14:00:37.134776Z",
     "shell.execute_reply": "2024-07-06T14:00:37.133630Z"
    },
    "papermill": {
     "duration": 0.116638,
     "end_time": "2024-07-06T14:00:37.137628",
     "exception": false,
     "start_time": "2024-07-06T14:00:37.020990",
     "status": "completed"
    },
    "tags": []
   },
   "outputs": [],
   "source": [
    "Imagegen = keras.preprocessing.image.ImageDataGenerator(rotation_range=10, \n",
    "                                                        width_shift_range=0.1, \n",
    "                                                        height_shift_range=0.1, \n",
    "                                                        zoom_range=0.1)\n",
    "\n",
    "Imagegen.fit(X_train)"
   ]
  },
  {
   "cell_type": "code",
   "execution_count": 8,
   "id": "78fcebb5",
   "metadata": {
    "execution": {
     "iopub.execute_input": "2024-07-06T14:00:37.151901Z",
     "iopub.status.busy": "2024-07-06T14:00:37.151455Z",
     "iopub.status.idle": "2024-07-06T14:02:22.685248Z",
     "shell.execute_reply": "2024-07-06T14:02:22.683975Z"
    },
    "papermill": {
     "duration": 105.546928,
     "end_time": "2024-07-06T14:02:22.690769",
     "exception": false,
     "start_time": "2024-07-06T14:00:37.143841",
     "status": "completed"
    },
    "tags": []
   },
   "outputs": [
    {
     "name": "stdout",
     "output_type": "stream",
     "text": [
      "Epoch 1/2\n"
     ]
    },
    {
     "name": "stderr",
     "output_type": "stream",
     "text": [
      "2024-07-08 08:20:37.437517: I tensorflow/core/common_runtime/executor.cc:1197] [/device:CPU:0] (DEBUG INFO) Executor start aborting (this does not indicate an error and you can ignore this message): INVALID_ARGUMENT: You must feed a value for placeholder tensor 'Placeholder/_0' with dtype int32\n",
      "\t [[{{node Placeholder/_0}}]]\n"
     ]
    },
    {
     "name": "stdout",
     "output_type": "stream",
     "text": [
      "WARNING:tensorflow:Your input ran out of data; interrupting training. Make sure that your dataset or generator can generate at least `steps_per_epoch * epochs` batches (in this case, 67200 batches). You may need to use the repeat() function when building your dataset.\n",
      "33600/33600 - 103s - loss: 0.7149 - accuracy: 0.7535 - val_loss: 0.1090 - val_accuracy: 0.9673 - lr: 0.0010 - 103s/epoch - 3ms/step\n"
     ]
    },
    {
     "data": {
      "text/plain": [
       "<keras.callbacks.History at 0x7fb5f5a80e20>"
      ]
     },
     "execution_count": 8,
     "metadata": {},
     "output_type": "execute_result"
    }
   ],
   "source": [
    "model.fit(Imagegen.flow(X_train, Y_train, batch_size=32), \n",
    "          validation_data = (X_val, Y_val), \n",
    "          callbacks = Lrreducer,\n",
    "          verbose= 2,\n",
    "          steps_per_epoch = X_train.shape[0],\n",
    "          epochs = 2)"
   ]
  },
  {
   "cell_type": "code",
   "execution_count": 9,
   "id": "59fb5906",
   "metadata": {
    "execution": {
     "iopub.execute_input": "2024-07-06T14:02:22.706929Z",
     "iopub.status.busy": "2024-07-06T14:02:22.706495Z",
     "iopub.status.idle": "2024-07-06T14:02:25.530426Z",
     "shell.execute_reply": "2024-07-06T14:02:25.528891Z"
    },
    "papermill": {
     "duration": 2.835593,
     "end_time": "2024-07-06T14:02:25.533337",
     "exception": false,
     "start_time": "2024-07-06T14:02:22.697744",
     "status": "completed"
    },
    "tags": []
   },
   "outputs": [
    {
     "name": "stdout",
     "output_type": "stream",
     "text": [
      "158/158 [==============================] - 2s 13ms/step - loss: 17.0718 - accuracy: 0.9704\n",
      "Test Accuracy: 0.9704365134239197,Test Loss: 17.07175064086914\n"
     ]
    }
   ],
   "source": [
    "# Evaluate the model on the test dataset\n",
    "test_loss, test_acc= model.evaluate(X_test, Y_test)\n",
    "print(f\"Test Accuracy: {test_acc},Test Loss: {test_loss}\")\n"
   ]
  },
  {
   "cell_type": "code",
   "execution_count": 10,
   "id": "b31e54e5",
   "metadata": {
    "execution": {
     "iopub.execute_input": "2024-07-06T14:02:25.559059Z",
     "iopub.status.busy": "2024-07-06T14:02:25.558539Z",
     "iopub.status.idle": "2024-07-06T14:02:26.953164Z",
     "shell.execute_reply": "2024-07-06T14:02:26.951802Z"
    },
    "papermill": {
     "duration": 1.411471,
     "end_time": "2024-07-06T14:02:26.956337",
     "exception": false,
     "start_time": "2024-07-06T14:02:25.544866",
     "status": "completed"
    },
    "tags": []
   },
   "outputs": [
    {
     "name": "stderr",
     "output_type": "stream",
     "text": [
      "2024-07-08 08:23:41.431474: I tensorflow/core/common_runtime/executor.cc:1197] [/device:CPU:0] (DEBUG INFO) Executor start aborting (this does not indicate an error and you can ignore this message): INVALID_ARGUMENT: You must feed a value for placeholder tensor 'Placeholder/_601' with dtype int64 and shape [5040]\n",
      "\t [[{{node Placeholder/_601}}]]\n"
     ]
    },
    {
     "name": "stdout",
     "output_type": "stream",
     "text": [
      "1/1 [==============================] - 0s 108ms/step\n"
     ]
    },
    {
     "data": {
      "image/png": "[encoded data removed]",
      "text/plain": [
       "<Figure size 1000x1000 with 9 Axes>"
      ]
     },
     "metadata": {},
     "output_type": "display_data"
    }
   ],
   "source": [
    "#tfd\n",
    "# plotting actual with predicted along with images\n",
    "\n",
    "import matplotlib.pyplot as plt\n",
    "\n",
    "# Function to plot images with their predicted and actual labels\n",
    "def plot_images(images, labels, predictions):\n",
    "    plt.figure(figsize=(10, 10))\n",
    "    for i in range(9):\n",
    "        plt.subplot(3, 3, i+1)\n",
    "        plt.xticks([])\n",
    "        plt.yticks([])\n",
    "        plt.grid(False)\n",
    "        plt.imshow(images[i].numpy().reshape(28, 28), cmap=plt.cm.binary)\n",
    "        plt.xlabel(f\"Actual: {labels[i]}, Predicted: {predictions[i]}\")\n",
    "    plt.show()\n",
    "\n",
    "# Visualize a batch of test images with their predictions\n",
    "for images, labels in test_dataset.take(1):\n",
    "    predictions = model.predict(images)\n",
    "    predicted_labels = tf.argmax(predictions, axis=1)\n",
    "    plot_images(images, labels, predicted_labels)"
   ]
  },
  {
   "cell_type": "code",
   "execution_count": 12,
   "id": "e9642131",
   "metadata": {
    "execution": {
     "iopub.execute_input": "2024-07-06T14:02:26.982827Z",
     "iopub.status.busy": "2024-07-06T14:02:26.981760Z",
     "iopub.status.idle": "2024-07-06T14:02:29.552903Z",
     "shell.execute_reply": "2024-07-06T14:02:29.551602Z"
    },
    "papermill": {
     "duration": 2.587294,
     "end_time": "2024-07-06T14:02:29.555631",
     "exception": false,
     "start_time": "2024-07-06T14:02:26.968337",
     "status": "completed"
    },
    "tags": []
   },
   "outputs": [],
   "source": [
    "#making a submission predictions\n",
    "\n",
    "predict_dataset = tf.data.experimental.make_csv_dataset('test.csv', \n",
    "                                                        batch_size=32, \n",
    "                                                        shuffle=False, \n",
    "                                                        num_epochs=1, \n",
    "                                                        column_names=pixels)\n"
   ]
  },
  {
   "cell_type": "code",
   "execution_count": 13,
   "id": "0aafd4f4",
   "metadata": {
    "execution": {
     "iopub.execute_input": "2024-07-06T14:02:29.582019Z",
     "iopub.status.busy": "2024-07-06T14:02:29.581572Z",
     "iopub.status.idle": "2024-07-06T14:02:30.109213Z",
     "shell.execute_reply": "2024-07-06T14:02:30.107684Z"
    },
    "papermill": {
     "duration": 0.543629,
     "end_time": "2024-07-06T14:02:30.112152",
     "exception": false,
     "start_time": "2024-07-06T14:02:29.568523",
     "status": "completed"
    },
    "tags": []
   },
   "outputs": [],
   "source": [
    "# preprocess to images\n",
    "\n",
    "def preproc_fn2(features):\n",
    "\n",
    "    # extract pixel values\n",
    "    img_pixels = [features[col] for col in pixels]\n",
    "\n",
    "    # stack the pixels\n",
    "    img_pixels = tf.stack(img_pixels, axis = 1)\n",
    "\n",
    "    # reshape to 28*28\n",
    "    img_pixels = tf.reshape(img_pixels, shape=[-1,28,28,1])\n",
    "\n",
    "    # normalize\n",
    "    img_pixels = tf.cast(img_pixels, tf.float32) / 255.0\n",
    "\n",
    "    return img_pixels\n",
    "\n",
    "predict_dataset = predict_dataset.map(preproc_fn2)\n",
    "\n",
    "# def print_shapes2(features):\n",
    "#     tf.print(\"Features shape:\", tf.shape(features))\n",
    "#     return features\n",
    "\n",
    "\n",
    "# predict_dataset = predict_dataset.map(print_shapes2)\n",
    "\n",
    "predict_dataset = predict_dataset.prefetch(buffer_size=tf.data.AUTOTUNE)\n"
   ]
  },
  {
   "cell_type": "code",
   "execution_count": 14,
   "id": "753c5986",
   "metadata": {
    "execution": {
     "iopub.execute_input": "2024-07-06T14:02:30.137634Z",
     "iopub.status.busy": "2024-07-06T14:02:30.137221Z",
     "iopub.status.idle": "2024-07-06T14:02:32.499628Z",
     "shell.execute_reply": "2024-07-06T14:02:32.498003Z"
    },
    "papermill": {
     "duration": 2.37868,
     "end_time": "2024-07-06T14:02:32.502649",
     "exception": false,
     "start_time": "2024-07-06T14:02:30.123969",
     "status": "completed"
    },
    "tags": []
   },
   "outputs": [
    {
     "name": "stderr",
     "output_type": "stream",
     "text": [
      "2024-07-08 08:24:05.743109: I tensorflow/core/common_runtime/executor.cc:1197] [/device:CPU:0] (DEBUG INFO) Executor start aborting (this does not indicate an error and you can ignore this message): INVALID_ARGUMENT: You must feed a value for placeholder tensor 'Placeholder/_119' with dtype int32 and shape [1]\n",
      "\t [[{{node Placeholder/_119}}]]\n",
      "2024-07-08 08:24:05.756866: I tensorflow/core/common_runtime/executor.cc:1197] [/device:CPU:0] (DEBUG INFO) Executor start aborting (this does not indicate an error and you can ignore this message): INVALID_ARGUMENT: You must feed a value for placeholder tensor 'Placeholder/_0' with dtype string and shape [1]\n",
      "\t [[{{node Placeholder/_0}}]]\n"
     ]
    },
    {
     "name": "stdout",
     "output_type": "stream",
     "text": [
      "1/1 [==============================] - 0s 26ms/step\n"
     ]
    },
    {
     "data": {
      "image/png": "[encoded data removed]",
      "text/plain": [
       "<Figure size 1000x1000 with 9 Axes>"
      ]
     },
     "metadata": {},
     "output_type": "display_data"
    }
   ],
   "source": [
    "# plotting submission predictions along with images (first 10)\n",
    "def plot_images(images, predictions):\n",
    "    plt.figure(figsize=(10, 10))\n",
    "    for i in range(9):\n",
    "        plt.subplot(3, 3, i+1)\n",
    "        plt.xticks([])\n",
    "        plt.yticks([])\n",
    "        plt.grid(False)\n",
    "        plt.imshow(images[i].numpy().reshape(28, 28), cmap=plt.cm.binary)\n",
    "        plt.xlabel(f\"Predicted: {predictions[i]}\")\n",
    "    plt.show()\n",
    "\n",
    "\n",
    "for images in predict_dataset.take(1):\n",
    "    predictions = model.predict(images)\n",
    "    predicted_labels = tf.argmax(predictions, axis=1)\n",
    "    plot_images(images, predicted_labels)"
   ]
  },
  {
   "cell_type": "code",
   "execution_count": 15,
   "id": "12ff5fb4",
   "metadata": {
    "execution": {
     "iopub.execute_input": "2024-07-06T14:02:32.530160Z",
     "iopub.status.busy": "2024-07-06T14:02:32.529706Z",
     "iopub.status.idle": "2024-07-06T14:03:15.195137Z",
     "shell.execute_reply": "2024-07-06T14:03:15.193959Z"
    },
    "papermill": {
     "duration": 42.682416,
     "end_time": "2024-07-06T14:03:15.198033",
     "exception": false,
     "start_time": "2024-07-06T14:02:32.515617",
     "status": "completed"
    },
    "tags": []
   },
   "outputs": [
    {
     "name": "stderr",
     "output_type": "stream",
     "text": [
      "2024-07-08 08:24:10.687327: I tensorflow/core/common_runtime/executor.cc:1197] [/device:CPU:0] (DEBUG INFO) Executor start aborting (this does not indicate an error and you can ignore this message): INVALID_ARGUMENT: You must feed a value for placeholder tensor 'Placeholder/_754' with dtype int32 and shape [1]\n",
      "\t [[{{node Placeholder/_754}}]]\n",
      "2024-07-08 08:24:10.700886: I tensorflow/core/common_runtime/executor.cc:1197] [/device:CPU:0] (DEBUG INFO) Executor start aborting (this does not indicate an error and you can ignore this message): INVALID_ARGUMENT: You must feed a value for placeholder tensor 'Placeholder/_126' with dtype int32 and shape [1]\n",
      "\t [[{{node Placeholder/_126}}]]\n"
     ]
    },
    {
     "name": "stdout",
     "output_type": "stream",
     "text": [
      "875/875 [==============================] - 30s 32ms/step\n"
     ]
    }
   ],
   "source": [
    "predictions = model.predict(predict_dataset)\n",
    "predicted_labels = tf.argmax(predictions, axis=1)"
   ]
  },
  {
   "cell_type": "code",
   "execution_count": 16,
   "id": "1ba67bd3",
   "metadata": {
    "execution": {
     "iopub.execute_input": "2024-07-06T14:03:15.282647Z",
     "iopub.status.busy": "2024-07-06T14:03:15.282244Z",
     "iopub.status.idle": "2024-07-06T14:03:15.333669Z",
     "shell.execute_reply": "2024-07-06T14:03:15.332407Z"
    },
    "papermill": {
     "duration": 0.097205,
     "end_time": "2024-07-06T14:03:15.336791",
     "exception": false,
     "start_time": "2024-07-06T14:03:15.239586",
     "status": "completed"
    },
    "tags": []
   },
   "outputs": [],
   "source": [
    "# getting submission file\n",
    "df = pd.DataFrame({'ImageId': range(1,len(predicted_labels)+1), 'Label':predicted_labels})\n",
    "\n",
    "df.to_csv('submission.csv', index=False)"
   ]
  }
 ],
 "metadata": {
  "kaggle": {
   "accelerator": "none",
   "dataSources": [
    {
     "databundleVersionId": 861823,
     "sourceId": 3004,
     "sourceType": "competition"
    }
   ],
   "dockerImageVersionId": 30732,
   "isGpuEnabled": false,
   "isInternetEnabled": true,
   "language": "python",
   "sourceType": "notebook"
  },
  "kernelspec": {
   "display_name": "Python 3",
   "language": "python",
   "name": "python3"
  },
  "language_info": {
   "codemirror_mode": {
    "name": "ipython",
    "version": 3
   },
   "file_extension": ".py",
   "mimetype": "text/x-python",
   "name": "python",
   "nbconvert_exporter": "python",
   "pygments_lexer": "ipython3",
   "version": "3.10.13"
  },
  "papermill": {
   "default_parameters": {},
   "duration": 190.020259,
   "end_time": "2024-07-06T14:03:17.405398",
   "environment_variables": {},
   "exception": null,
   "input_path": "__notebook__.ipynb",
   "output_path": "__notebook__.ipynb",
   "parameters": {},
   "start_time": "2024-07-06T14:00:07.385139",
   "version": "2.5.0"
  }
 },
 "nbformat": 4,
 "nbformat_minor": 5
}
